{
 "cells": [
  {
   "cell_type": "markdown",
   "id": "2ed110c5-1486-41f8-9c7f-5d7536d91609",
   "metadata": {},
   "source": [
    "## 1. Initalization"
   ]
  },
  {
   "cell_type": "markdown",
   "id": "f81b10f9-27d8-4cea-bbdb-bcb1edfc0d96",
   "metadata": {},
   "source": [
    "### 1.1 Load dataset"
   ]
  },
  {
   "cell_type": "code",
   "execution_count": 1,
   "id": "a185b326-6cf0-4d43-9f53-3a760e1a4e17",
   "metadata": {},
   "outputs": [],
   "source": [
    "import numpy as np\n",
    "import pandas as pd"
   ]
  },
  {
   "cell_type": "code",
   "execution_count": 2,
   "id": "7327dc7a-48d4-4c58-a903-cba7a40d2ca6",
   "metadata": {},
   "outputs": [
    {
     "data": {
      "text/html": [
       "<div>\n",
       "<style scoped>\n",
       "    .dataframe tbody tr th:only-of-type {\n",
       "        vertical-align: middle;\n",
       "    }\n",
       "\n",
       "    .dataframe tbody tr th {\n",
       "        vertical-align: top;\n",
       "    }\n",
       "\n",
       "    .dataframe thead th {\n",
       "        text-align: right;\n",
       "    }\n",
       "</style>\n",
       "<table border=\"1\" class=\"dataframe\">\n",
       "  <thead>\n",
       "    <tr style=\"text-align: right;\">\n",
       "      <th></th>\n",
       "      <th>Duration</th>\n",
       "      <th>Time_Signature</th>\n",
       "      <th>Danceability</th>\n",
       "      <th>Key</th>\n",
       "      <th>Loudness</th>\n",
       "      <th>Mode</th>\n",
       "      <th>Speechiness</th>\n",
       "      <th>Acousticness</th>\n",
       "      <th>Instrumentalness</th>\n",
       "      <th>Liveness</th>\n",
       "      <th>Valence</th>\n",
       "      <th>Tempo</th>\n",
       "      <th>Popularity</th>\n",
       "    </tr>\n",
       "  </thead>\n",
       "  <tbody>\n",
       "    <tr>\n",
       "      <th>0</th>\n",
       "      <td>193</td>\n",
       "      <td>4</td>\n",
       "      <td>0.521</td>\n",
       "      <td>0</td>\n",
       "      <td>-13.866</td>\n",
       "      <td>1</td>\n",
       "      <td>0.0278</td>\n",
       "      <td>0.6920</td>\n",
       "      <td>0.000003</td>\n",
       "      <td>0.1080</td>\n",
       "      <td>0.789</td>\n",
       "      <td>83.412</td>\n",
       "      <td>16</td>\n",
       "    </tr>\n",
       "    <tr>\n",
       "      <th>1</th>\n",
       "      <td>283</td>\n",
       "      <td>4</td>\n",
       "      <td>0.535</td>\n",
       "      <td>2</td>\n",
       "      <td>-12.287</td>\n",
       "      <td>1</td>\n",
       "      <td>0.0428</td>\n",
       "      <td>0.0100</td>\n",
       "      <td>0.023000</td>\n",
       "      <td>0.0495</td>\n",
       "      <td>0.445</td>\n",
       "      <td>160.361</td>\n",
       "      <td>10</td>\n",
       "    </tr>\n",
       "    <tr>\n",
       "      <th>2</th>\n",
       "      <td>313</td>\n",
       "      <td>4</td>\n",
       "      <td>0.563</td>\n",
       "      <td>2</td>\n",
       "      <td>-10.781</td>\n",
       "      <td>1</td>\n",
       "      <td>0.0263</td>\n",
       "      <td>0.0357</td>\n",
       "      <td>0.001850</td>\n",
       "      <td>0.1400</td>\n",
       "      <td>0.564</td>\n",
       "      <td>106.739</td>\n",
       "      <td>13</td>\n",
       "    </tr>\n",
       "    <tr>\n",
       "      <th>3</th>\n",
       "      <td>249</td>\n",
       "      <td>4</td>\n",
       "      <td>0.638</td>\n",
       "      <td>11</td>\n",
       "      <td>-10.206</td>\n",
       "      <td>0</td>\n",
       "      <td>0.0310</td>\n",
       "      <td>0.1610</td>\n",
       "      <td>0.000034</td>\n",
       "      <td>0.0908</td>\n",
       "      <td>0.936</td>\n",
       "      <td>124.962</td>\n",
       "      <td>10</td>\n",
       "    </tr>\n",
       "    <tr>\n",
       "      <th>4</th>\n",
       "      <td>357</td>\n",
       "      <td>4</td>\n",
       "      <td>0.388</td>\n",
       "      <td>2</td>\n",
       "      <td>-9.984</td>\n",
       "      <td>1</td>\n",
       "      <td>0.0360</td>\n",
       "      <td>0.0130</td>\n",
       "      <td>0.042200</td>\n",
       "      <td>0.1150</td>\n",
       "      <td>0.769</td>\n",
       "      <td>126.769</td>\n",
       "      <td>11</td>\n",
       "    </tr>\n",
       "  </tbody>\n",
       "</table>\n",
       "</div>"
      ],
      "text/plain": [
       "   Duration  Time_Signature  Danceability  Key  Loudness  Mode  Speechiness  \\\n",
       "0       193               4         0.521    0   -13.866     1       0.0278   \n",
       "1       283               4         0.535    2   -12.287     1       0.0428   \n",
       "2       313               4         0.563    2   -10.781     1       0.0263   \n",
       "3       249               4         0.638   11   -10.206     0       0.0310   \n",
       "4       357               4         0.388    2    -9.984     1       0.0360   \n",
       "\n",
       "   Acousticness  Instrumentalness  Liveness  Valence    Tempo  Popularity  \n",
       "0        0.6920          0.000003    0.1080    0.789   83.412          16  \n",
       "1        0.0100          0.023000    0.0495    0.445  160.361          10  \n",
       "2        0.0357          0.001850    0.1400    0.564  106.739          13  \n",
       "3        0.1610          0.000034    0.0908    0.936  124.962          10  \n",
       "4        0.0130          0.042200    0.1150    0.769  126.769          11  "
      ]
     },
     "execution_count": 2,
     "metadata": {},
     "output_type": "execute_result"
    }
   ],
   "source": [
    "df = pd.read_csv(\"UltimateClassicRock.csv\")\n",
    "df['Decade'] = (df['Year'] // 10) * 10\n",
    "df['Decade'] = df['Decade'].astype(str) + 's'\n",
    "order = ['1960s', '1970s', '1980s', '1990s', '2000s', '2010s', '2020s']\n",
    "df['Decade'] = pd.Categorical(df['Decade'], categories=order, ordered=True)\n",
    "\n",
    "\n",
    "def convert_duration(duration):\n",
    "    minutes, seconds = map(int, duration.split(':'))\n",
    "    return minutes * 60 + seconds\n",
    "\n",
    "df['Duration'] = df['Duration'].apply(convert_duration)\n",
    "\n",
    "A = df.drop(['Track', 'Artist', 'Album', 'Year', 'Energy', 'Decade'], axis=1)\n",
    "b = df['Energy']\n",
    "A.head()"
   ]
  },
  {
   "cell_type": "markdown",
   "id": "d9a6fb75-634a-4528-9591-168bd3c5f717",
   "metadata": {},
   "source": [
    "### 1.2 Prepare the dataset & model"
   ]
  },
  {
   "cell_type": "code",
   "execution_count": 3,
   "id": "5e929d34-c4da-43ee-99b1-b8891177cde2",
   "metadata": {},
   "outputs": [],
   "source": [
    "from sklearn.model_selection import train_test_split\n",
    "from utils.linear_regressionGD import LinearRegressionGD"
   ]
  },
  {
   "cell_type": "code",
   "execution_count": 4,
   "id": "a31560c1-ef21-4f4d-948a-6bfff9be611d",
   "metadata": {},
   "outputs": [],
   "source": [
    "A_train, A_test, b_train, b_test = train_test_split(A, b, test_size=0.2, shuffle=True, random_state=42)\n",
    "\n",
    "model = LinearRegressionGD(learning_rate=0.001, iterations=100, batch_size=32)\n",
    "model.fit(A_train, b_train, A_test, b_test)\n",
    "predictions = model.predict(A_test)"
   ]
  },
  {
   "cell_type": "markdown",
   "id": "23ded577-52b1-4271-9b95-796de4944869",
   "metadata": {},
   "source": [
    "## 2. Cross validation"
   ]
  },
  {
   "cell_type": "code",
   "execution_count": 5,
   "id": "1467e934-d78a-44a0-840b-44f4133ec55e",
   "metadata": {},
   "outputs": [
    {
     "name": "stdout",
     "output_type": "stream",
     "text": [
      "MSE on test set: 0.012390933144272906\n",
      "\n",
      "Fold 1 validation cost (MSE): 0.006208\n",
      "\n",
      "Fold 2 validation cost (MSE): 0.006388\n",
      "\n",
      "Fold 3 validation cost (MSE): 0.005901\n",
      "Average final cost across the 3 folds 0.006165403369296638\n"
     ]
    }
   ],
   "source": [
    "#evaluate\n",
    "from sklearn.metrics import mean_squared_error\n",
    "print(\"MSE on test set:\", mean_squared_error(b_test, predictions))\n",
    "\n",
    "#cross-validation on the full dataset\n",
    "result = model.cross_validate(A, b, k=3)\n",
    "print(f\"Average final cost across the 3 folds {result}\")"
   ]
  },
  {
   "cell_type": "markdown",
   "id": "1beea8ca-502b-44b1-be73-03482c373b0d",
   "metadata": {},
   "source": [
    "## 3. Convergence plots & error analysis"
   ]
  },
  {
   "cell_type": "markdown",
   "id": "1bed2af0-e1df-4eb7-aa16-7a0e0ee664b3",
   "metadata": {},
   "source": [
    "### 3.1 Convergence of cost function graph before new attributes"
   ]
  },
  {
   "cell_type": "code",
   "execution_count": 6,
   "id": "80b235c9-e04e-40ff-91da-3c4a5b9cfd22",
   "metadata": {},
   "outputs": [
    {
     "data": {
      "image/png": "[encoded data removed]",
      "text/plain": [
       "<Figure size 640x480 with 1 Axes>"
      ]
     },
     "metadata": {},
     "output_type": "display_data"
    }
   ],
   "source": [
    "import matplotlib.pyplot as plt\n",
    "\n",
    "plt.plot(model.cost_history_train, label='Training cost')\n",
    "if model.cost_history_val:\n",
    "    plt.plot(model.cost_history_val, label='Validation cost')\n",
    "plt.xlabel('Iteration')\n",
    "plt.ylabel('Cost (MSE)')\n",
    "plt.title('Convergence of cost function')\n",
    "plt.legend()\n",
    "plt.show()"
   ]
  },
  {
   "cell_type": "markdown",
   "id": "dd5a41ef-5f01-4708-ba6e-36f24c435fed",
   "metadata": {},
   "source": [
    "### 3.2 Convergence of cost function graph after new attributes"
   ]
  },
  {
   "cell_type": "code",
   "execution_count": 7,
   "id": "d872ba7a-f1c6-4f49-8f5b-69bd5b24dc7b",
   "metadata": {},
   "outputs": [],
   "source": [
    "from sklearn.preprocessing import PolynomialFeatures\n",
    "\n",
    "poly = PolynomialFeatures(degree=2, include_bias=False)\n",
    "A_poly = poly.fit_transform(A)\n",
    "\n",
    "A_train_poly, A_test_poly, b_train, b_test = train_test_split(A_poly, b, test_size=0.2, random_state=42)\n",
    "\n",
    "model = LinearRegressionGD(learning_rate=0.001, iterations=100, batch_size=32)\n",
    "model.fit(A_train_poly, b_train, A_test_poly, b_test)"
   ]
  },
  {
   "cell_type": "code",
   "execution_count": 8,
   "id": "797cde9d-88e1-495e-bd59-bb153f31f5cb",
   "metadata": {},
   "outputs": [
    {
     "data": {
      "image/png": "[encoded data removed]",
      "text/plain": [
       "<Figure size 640x480 with 1 Axes>"
      ]
     },
     "metadata": {},
     "output_type": "display_data"
    }
   ],
   "source": [
    "plt.plot(model.cost_history_train, label='Training cost')\n",
    "if model.cost_history_val:\n",
    "    plt.plot(model.cost_history_val, label='Validation cost')\n",
    "plt.xlabel('Iteration')\n",
    "plt.ylabel('Cost (MSE)')\n",
    "plt.title('Convergence of cost function')\n",
    "plt.legend()\n",
    "plt.show()"
   ]
  },
  {
   "cell_type": "markdown",
   "id": "ecaa74d8-6890-41ca-98f8-11c4f81a3ad7",
   "metadata": {},
   "source": [
    "### 3.3 Convergence of cost function graph after reduction of attributes"
   ]
  },
  {
   "cell_type": "code",
   "execution_count": 9,
   "id": "803968c4-0bf5-4745-b4d8-6cbc12e43f9e",
   "metadata": {},
   "outputs": [],
   "source": [
    "A_np = A.to_numpy()\n",
    "A_subset = A_np[:, :4]\n",
    "\n",
    "A_red_train, A_red_test, b_train, b_test = train_test_split(A_subset, b, test_size=0.2, shuffle=True, random_state=42)\n",
    "\n",
    "model = LinearRegressionGD(learning_rate=0.001, iterations=100, batch_size=32)\n",
    "model.fit(A_red_train, b_train, A_red_test, b_test)\n",
    "predictions = model.predict(A_red_test)"
   ]
  },
  {
   "cell_type": "code",
   "execution_count": 10,
   "id": "1ab219d2-d84c-4e1f-8c39-424494b8fd0e",
   "metadata": {},
   "outputs": [
    {
     "data": {
      "image/png": "[encoded data removed]",
      "text/plain": [
       "<Figure size 640x480 with 1 Axes>"
      ]
     },
     "metadata": {},
     "output_type": "display_data"
    }
   ],
   "source": [
    "plt.plot(model.cost_history_train, label='Training cost')\n",
    "if model.cost_history_val:\n",
    "    plt.plot(model.cost_history_val, label='Validation cost')\n",
    "plt.xlabel('Iteration')\n",
    "plt.ylabel('Cost (MSE)')\n",
    "plt.title('Convergence of cost function')\n",
    "plt.legend()\n",
    "plt.show()"
   ]
  },
  {
   "cell_type": "markdown",
   "id": "d44ccb13-629f-40e4-9790-996e2f439b84",
   "metadata": {},
   "source": [
    "## 4. Regularization L1, L2 and None"
   ]
  },
  {
   "cell_type": "code",
   "execution_count": 11,
   "id": "4ba1f460-d990-403d-a862-c51392f70ab6",
   "metadata": {},
   "outputs": [
    {
     "name": "stdout",
     "output_type": "stream",
     "text": [
      "Weights without regularization: [ 0.65556319  0.00450301  0.01126858 -0.01819925  0.00134588  0.12969323\n",
      " -0.00366691  0.0340379  -0.07413847  0.01699496  0.01858378  0.05045138\n",
      "  0.00586101 -0.00132242]\n",
      "Weights with L2 regularization: [ 0.65556288  0.00451088  0.01130538 -0.01789606  0.00134418  0.12888019\n",
      " -0.00366184  0.03384759 -0.07411433  0.01674826  0.01861835  0.05004691\n",
      "  0.00602724 -0.00132229]\n",
      "Weights with L1 regularization: [ 6.55594423e-01  7.61161362e-05  5.38046337e-03 -8.43791141e-03\n",
      "  6.83617725e-05  1.25474197e-01 -3.57698235e-04  2.94860850e-02\n",
      " -7.40974164e-02  1.08057397e-02  1.50808982e-02  3.88286576e-02\n",
      "  3.08704494e-03 -5.59517226e-05]\n"
     ]
    }
   ],
   "source": [
    "model_no_reg = LinearRegressionGD(learning_rate=0.001, iterations=100, regularization=None)\n",
    "model_no_reg.fit(A_train, b_train)\n",
    "print(\"Weights without regularization:\", model_no_reg.theta)\n",
    "\n",
    "model_l2 = LinearRegressionGD(learning_rate=0.001, iterations=100, regularization='l2', lr_lambda=0.1)\n",
    "model_l2.fit(A_train, b_train)\n",
    "print(\"Weights with L2 regularization:\", model_l2.theta)\n",
    "\n",
    "model_l1 = LinearRegressionGD(learning_rate=0.001, iterations=100, regularization='l1', lr_lambda=0.1)\n",
    "model_l1.fit(A_train, b_train)\n",
    "print(\"Weights with L1 regularization:\", model_l1.theta)\n"
   ]
  },
  {
   "cell_type": "code",
   "execution_count": 12,
   "id": "5ad6ea3f-91ef-46ae-91a5-c7da75b1b6d5",
   "metadata": {},
   "outputs": [
    {
     "name": "stdout",
     "output_type": "stream",
     "text": [
      "Mean weight values:\n",
      "No regularization mean: 0.073259\n",
      "L2 regularization mean: 0.073135\n",
      "L1 regularization mean: 0.069059\n"
     ]
    }
   ],
   "source": [
    "print(\"Mean weight values:\")\n",
    "print(f\"No regularization mean: {np.mean(np.abs(model_no_reg.theta)):.6f}\")\n",
    "print(f\"L2 regularization mean: {np.mean(np.abs(model_l2.theta)):.6f}\")\n",
    "print(f\"L1 regularization mean: {np.mean(np.abs(model_l1.theta)):.6f}\")"
   ]
  },
  {
   "cell_type": "markdown",
   "id": "a09cdda6-d566-4a9b-b510-ed02c1186d7e",
   "metadata": {},
   "source": [
    "### Summary"
   ]
  },
  {
   "cell_type": "markdown",
   "id": "5618d2d6-45df-492e-9e18-132616617adc",
   "metadata": {},
   "source": [
    "- **No regularization**: Weights have the highest average magnitude.\n",
    "- **L2 regularization (Ridge)**: Slightly reduces the average weight size by shrinking weights, but most remain non-zero.\n",
    "- **L1 regularization (Lasso)**: Reduces the average weight more and pushes some weights close to zero.\n",
    "- Both methods help reduce **overfitting** by controlling the size of weights."
   ]
  },
  {
   "cell_type": "markdown",
   "id": "b5624106-2802-4dcc-a40c-cc6e829ef653",
   "metadata": {},
   "source": [
    "## 5. Handling imbalanced data"
   ]
  },
  {
   "cell_type": "code",
   "execution_count": 13,
   "id": "bae3e5db-a133-4043-8634-b9581a14f25a",
   "metadata": {},
   "outputs": [],
   "source": [
    "from imblearn.over_sampling import SMOTE\n",
    "from imblearn.under_sampling import RandomUnderSampler\n",
    "from sklearn.metrics import precision_score, recall_score, f1_score\n",
    "from sklearn.metrics import classification_report\n",
    "from sklearn.preprocessing import StandardScaler"
   ]
  },
  {
   "cell_type": "code",
   "execution_count": 14,
   "id": "0925b689-8a0a-439a-b4ce-ffee8702c7d4",
   "metadata": {},
   "outputs": [],
   "source": [
    "X = df.drop(['Track', 'Artist', 'Album', 'Year', 'Decade', 'Mode'], axis=1)\n",
    "y = df['Mode']"
   ]
  },
  {
   "cell_type": "code",
   "execution_count": 15,
   "id": "076d61f9-dbd2-4ddb-bdf2-8d3d31a6d270",
   "metadata": {},
   "outputs": [],
   "source": [
    "X_train, X_test, y_train, y_test = train_test_split(X, y, test_size=0.2, random_state=42, stratify=y)\n",
    "scaler = StandardScaler()\n",
    "X_train_scaled = scaler.fit_transform(X_train)\n",
    "X_test_scaled = scaler.transform(X_test)"
   ]
  },
  {
   "cell_type": "markdown",
   "id": "f272ed69-b568-44ef-bdcc-fffac3f581a9",
   "metadata": {},
   "source": [
    "### 5.1 Oversampling"
   ]
  },
  {
   "cell_type": "code",
   "execution_count": 17,
   "id": "c161bbee-be66-4014-b939-a341e3ef8a43",
   "metadata": {},
   "outputs": [
    {
     "name": "stdout",
     "output_type": "stream",
     "text": [
      "Original class distribution:\n",
      " Mode\n",
      "1    10527\n",
      "0     3891\n",
      "Name: count, dtype: int64\n",
      "After SMOTE oversampling:\n",
      " Mode\n",
      "1    8421\n",
      "0    8421\n",
      "Name: count, dtype: int64\n"
     ]
    }
   ],
   "source": [
    "smote = SMOTE(random_state=12)\n",
    "X_train_smote, y_train_smote = smote.fit_resample(X_train_scaled, y_train)\n",
    "\n",
    "print(\"Original class distribution:\\n\", y.value_counts())\n",
    "print(\"After SMOTE oversampling:\\n\", pd.Series(y_train_smote).value_counts())"
   ]
  },
  {
   "cell_type": "markdown",
   "id": "c16dd6a3-6daf-44f1-bb3f-fc306325f517",
   "metadata": {},
   "source": [
    "### 5.2 Undersampling"
   ]
  },
  {
   "cell_type": "code",
   "execution_count": null,
   "id": "9c4bb6a9-9b3a-433d-9377-76ae6d4d7ffe",
   "metadata": {},
   "outputs": [],
   "source": [
    "rus = RandomUnderSampler(random_state=42)\n",
    "X_train_rus, y_train_rus = rus.fit_resample(X_train_scaled, y_train)\n",
    "\n",
    "print(\"Original class distribution:\\n\", y_train_class.value_counts())\n",
    "print(\"After RUS undersampling:\\n\", pd.Series(y_train_rus).value_counts())"
   ]
  },
  {
   "cell_type": "code",
   "execution_count": null,
   "id": "5d48f694-b1cb-475f-a913-79d5a2031dad",
   "metadata": {},
   "outputs": [],
   "source": [
    "def train_and_eval(X_tr, y_tr, X_te, y_te, desc):\n",
    "    model = LinearRegressionGD()\n",
    "    model.fit(X_tr, y_tr)\n",
    "    y_pred_cont = model.predict(X_te)\n",
    "    y_pred = (y_pred_cont >= 0.5).astype(int)\n",
    "    \n",
    "    print(f\"\\nEvaluation on {desc} dataset:\")\n",
    "    print(classification_report(y_te, y_pred))\n",
    "\n",
    "\n",
    "train_and_eval(X_train_scaled, y_train, X_test_scaled, y_test, \"original\")\n",
    "train_and_eval(X_train_smote, y_train_smote, X_test_scaled, y_test, \"SMOTE oversampled\")\n",
    "train_and_eval(X_train_rus, y_train_rus, X_test_scaled, y_test, \"undersampled\")"
   ]
  },
  {
   "cell_type": "markdown",
   "id": "918e66ec-aa68-4606-b746-60a3bd6cdcca",
   "metadata": {},
   "source": [
    "- **Original dataset:**  \n",
    "  - High recall for major class (1) - biased towards major\n",
    "  - Low recall for minor class (0) - poor detection of minor\n",
    "\n",
    "- **SMOTE oversampled:**  \n",
    "  - Better recall for minor class (0) - improved detection  \n",
    "  - Recall for major class drops  \n",
    "  - Overall accuracy decreases  \n",
    "\n",
    "- **Undersample dataset:**  \n",
    "  - Balanced recall between classes - better minor detection\n",
    "  - Accuracy lower than original, but better than SMOTE  \n",
    "  - Precision and F1-scores show improvement in minor class handling  \n"
   ]
  },
  {
   "cell_type": "markdown",
   "id": "4a3f07d3-3ac6-4ccb-a006-ad8c9a3213b5",
   "metadata": {},
   "source": [
    "## 6. Hyperparameter tuning"
   ]
  },
  {
   "cell_type": "code",
   "execution_count": null,
   "id": "d37affef-cb4e-4fa3-8a98-15f33b36c6be",
   "metadata": {},
   "outputs": [],
   "source": [
    "from sklearn.model_selection import GridSearchCV, train_test_split\n",
    "from sklearn.ensemble import RandomForestClassifier\n",
    "from sklearn.tree import DecisionTreeClassifier\n",
    "from sklearn.neighbors import KNeighborsClassifier\n",
    "from sklearn.metrics import classification_report"
   ]
  },
  {
   "cell_type": "code",
   "execution_count": null,
   "id": "191c8d18-fbb4-4a17-9191-b00ffc11582b",
   "metadata": {},
   "outputs": [],
   "source": [
    "X_train, X_test, y_train, y_test = train_test_split(X, y, test_size=0.2, random_state=42)\n",
    "scaler = StandardScaler()\n",
    "X_train_scaled = scaler.fit_transform(X_train)\n",
    "X_test_scaled = scaler.transform(X_test)\n",
    "\n",
    "X_train_scaled\n"
   ]
  },
  {
   "cell_type": "markdown",
   "id": "82e2900a-37f3-40d7-a3cb-e4d44ef42b07",
   "metadata": {},
   "source": [
    "### 6.1 Decision tree"
   ]
  },
  {
   "cell_type": "code",
   "execution_count": null,
   "id": "003a66dd-4731-480e-be5f-c70abe05eb6e",
   "metadata": {},
   "outputs": [],
   "source": [
    "dt = DecisionTreeClassifier(random_state=67)"
   ]
  },
  {
   "cell_type": "code",
   "execution_count": null,
   "id": "be36ccfd-97d9-4f6f-aec9-c732ca750bd8",
   "metadata": {},
   "outputs": [],
   "source": [
    "param_grid_dt = {\n",
    "    'max_depth': [None, 5, 10, 20],           # max depth of the tree\n",
    "    'min_samples_split': [2, 5, 10],          # min samples required to split an internal node\n",
    "    'min_samples_leaf': [1, 2, 4]             # min samples required to be at a leaf node\n",
    "}\n",
    "\n",
    "grid_dt = GridSearchCV(dt, param_grid_dt, cv=5, scoring='f1', n_jobs=-1)\n",
    "grid_dt.fit(X_train, y_train)\n",
    "\n",
    "print(\"Best Decision Tree parameters:\", grid_dt.best_params_)\n",
    "\n",
    "best_dt = grid_dt.best_estimator_\n",
    "y_pred_dt = best_dt.predict(X_test)\n",
    "print(\"\\nDecision Tree classification report:\")\n",
    "print(classification_report(y_test, y_pred_dt))\n"
   ]
  },
  {
   "cell_type": "markdown",
   "id": "a06e7f8a-d24b-4b1e-89f6-3e653a5dc427",
   "metadata": {},
   "source": [
    "### 6.2 KNeighbors Classifier"
   ]
  },
  {
   "cell_type": "code",
   "execution_count": null,
   "id": "5a3801b0-26a2-482b-a04a-60de3ea0ed84",
   "metadata": {},
   "outputs": [],
   "source": [
    "knn = KNeighborsClassifier()"
   ]
  },
  {
   "cell_type": "code",
   "execution_count": null,
   "id": "568a3d90-3431-4850-8f09-e7002db3b8f9",
   "metadata": {},
   "outputs": [],
   "source": [
    "param_grid_knn = {\n",
    "    'n_neighbors': [3, 5, 7, 9],\n",
    "    'weights': ['uniform', 'distance'],\n",
    "    'metric': ['euclidean', 'manhattan']\n",
    "}\n",
    "\n",
    "grid_knn = GridSearchCV(knn, param_grid_knn, cv=5, scoring='f1', n_jobs=-1)\n",
    "grid_knn.fit(X_train_scaled, y_train)\n",
    "\n",
    "print(\"Best KNN parameters:\", grid_knn.best_params_)\n",
    "\n",
    "best_knn = grid_knn.best_estimator_\n",
    "y_pred_knn = best_knn.predict(X_test_scaled)\n",
    "print(\"\\nKNN classification report:\")\n",
    "print(classification_report(y_test, y_pred_knn))"
   ]
  },
  {
   "cell_type": "markdown",
   "id": "eba58293-ba50-4ef3-9d8e-9ad3fe427cf9",
   "metadata": {},
   "source": [
    "Hyperparameter tuning is hard because:\n",
    "\n",
    "- There are many possible parameter combinations to try.\n",
    "- Training and testing each takes a lot of time and resources.\n",
    "- Small changes in parameters can cause big differences in results.\n",
    "- Some parameters affect each other, making the search complex."
   ]
  },
  {
   "cell_type": "code",
   "execution_count": null,
   "id": "de1c6bbe-6370-4d61-a48a-de81ead440a6",
   "metadata": {},
   "outputs": [],
   "source": []
  }
 ],
 "metadata": {
  "kernelspec": {
   "display_name": "Python 3 (ipykernel)",
   "language": "python",
   "name": "python3"
  },
  "language_info": {
   "codemirror_mode": {
    "name": "ipython",
    "version": 3
   },
   "file_extension": ".py",
   "mimetype": "text/x-python",
   "name": "python",
   "nbconvert_exporter": "python",
   "pygments_lexer": "ipython3",
   "version": "3.13.3"
  }
 },
 "nbformat": 4,
 "nbformat_minor": 5
}
