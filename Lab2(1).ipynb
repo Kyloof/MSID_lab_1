{
 "cells": [
  {
   "cell_type": "code",
   "execution_count": 1,
   "id": "464f779e-efba-4e24-ae4b-3d2142a35baa",
   "metadata": {},
   "outputs": [],
   "source": [
    "import numpy as np\n",
    "import pandas as pd"
   ]
  },
  {
   "cell_type": "code",
   "execution_count": 2,
   "id": "4edb2843-8310-4d4d-9507-d90371fd343d",
   "metadata": {},
   "outputs": [],
   "source": [
    "c"
   ]
  },
  {
   "cell_type": "code",
   "execution_count": 3,
   "id": "f4856665-6fff-45c1-9c2e-cbd550b35e71",
   "metadata": {},
   "outputs": [
    {
     "data": {
      "text/html": [
       "<div>\n",
       "<style scoped>\n",
       "    .dataframe tbody tr th:only-of-type {\n",
       "        vertical-align: middle;\n",
       "    }\n",
       "\n",
       "    .dataframe tbody tr th {\n",
       "        vertical-align: top;\n",
       "    }\n",
       "\n",
       "    .dataframe thead th {\n",
       "        text-align: right;\n",
       "    }\n",
       "</style>\n",
       "<table border=\"1\" class=\"dataframe\">\n",
       "  <thead>\n",
       "    <tr style=\"text-align: right;\">\n",
       "      <th></th>\n",
       "      <th>Track</th>\n",
       "      <th>Artist</th>\n",
       "      <th>Album</th>\n",
       "      <th>Year</th>\n",
       "      <th>Duration</th>\n",
       "      <th>Time_Signature</th>\n",
       "      <th>Danceability</th>\n",
       "      <th>Energy</th>\n",
       "      <th>Key</th>\n",
       "      <th>Loudness</th>\n",
       "      <th>Mode</th>\n",
       "      <th>Speechiness</th>\n",
       "      <th>Acousticness</th>\n",
       "      <th>Instrumentalness</th>\n",
       "      <th>Liveness</th>\n",
       "      <th>Valence</th>\n",
       "      <th>Tempo</th>\n",
       "      <th>Popularity</th>\n",
       "      <th>Decade</th>\n",
       "    </tr>\n",
       "  </thead>\n",
       "  <tbody>\n",
       "    <tr>\n",
       "      <th>0</th>\n",
       "      <td>Play A Simple Song</td>\n",
       "      <td>38 Special</td>\n",
       "      <td>38 Special</td>\n",
       "      <td>1977</td>\n",
       "      <td>193</td>\n",
       "      <td>4</td>\n",
       "      <td>0.521</td>\n",
       "      <td>0.367</td>\n",
       "      <td>0</td>\n",
       "      <td>-13.866</td>\n",
       "      <td>1</td>\n",
       "      <td>0.0278</td>\n",
       "      <td>0.6920</td>\n",
       "      <td>0.000003</td>\n",
       "      <td>0.1080</td>\n",
       "      <td>0.789</td>\n",
       "      <td>83.412</td>\n",
       "      <td>16</td>\n",
       "      <td>1970s</td>\n",
       "    </tr>\n",
       "    <tr>\n",
       "      <th>1</th>\n",
       "      <td>Four Wheels</td>\n",
       "      <td>38 Special</td>\n",
       "      <td>38 Special</td>\n",
       "      <td>1977</td>\n",
       "      <td>283</td>\n",
       "      <td>4</td>\n",
       "      <td>0.535</td>\n",
       "      <td>0.710</td>\n",
       "      <td>2</td>\n",
       "      <td>-12.287</td>\n",
       "      <td>1</td>\n",
       "      <td>0.0428</td>\n",
       "      <td>0.0100</td>\n",
       "      <td>0.023000</td>\n",
       "      <td>0.0495</td>\n",
       "      <td>0.445</td>\n",
       "      <td>160.361</td>\n",
       "      <td>10</td>\n",
       "      <td>1970s</td>\n",
       "    </tr>\n",
       "    <tr>\n",
       "      <th>2</th>\n",
       "      <td>Fly Away</td>\n",
       "      <td>38 Special</td>\n",
       "      <td>38 Special</td>\n",
       "      <td>1977</td>\n",
       "      <td>313</td>\n",
       "      <td>4</td>\n",
       "      <td>0.563</td>\n",
       "      <td>0.563</td>\n",
       "      <td>2</td>\n",
       "      <td>-10.781</td>\n",
       "      <td>1</td>\n",
       "      <td>0.0263</td>\n",
       "      <td>0.0357</td>\n",
       "      <td>0.001850</td>\n",
       "      <td>0.1400</td>\n",
       "      <td>0.564</td>\n",
       "      <td>106.739</td>\n",
       "      <td>13</td>\n",
       "      <td>1970s</td>\n",
       "    </tr>\n",
       "    <tr>\n",
       "      <th>3</th>\n",
       "      <td>Tell Everybody</td>\n",
       "      <td>38 Special</td>\n",
       "      <td>38 Special</td>\n",
       "      <td>1977</td>\n",
       "      <td>249</td>\n",
       "      <td>4</td>\n",
       "      <td>0.638</td>\n",
       "      <td>0.694</td>\n",
       "      <td>11</td>\n",
       "      <td>-10.206</td>\n",
       "      <td>0</td>\n",
       "      <td>0.0310</td>\n",
       "      <td>0.1610</td>\n",
       "      <td>0.000034</td>\n",
       "      <td>0.0908</td>\n",
       "      <td>0.936</td>\n",
       "      <td>124.962</td>\n",
       "      <td>10</td>\n",
       "      <td>1970s</td>\n",
       "    </tr>\n",
       "    <tr>\n",
       "      <th>4</th>\n",
       "      <td>Just Wanna Rock &amp; Roll</td>\n",
       "      <td>38 Special</td>\n",
       "      <td>38 Special</td>\n",
       "      <td>1977</td>\n",
       "      <td>357</td>\n",
       "      <td>4</td>\n",
       "      <td>0.388</td>\n",
       "      <td>0.701</td>\n",
       "      <td>2</td>\n",
       "      <td>-9.984</td>\n",
       "      <td>1</td>\n",
       "      <td>0.0360</td>\n",
       "      <td>0.0130</td>\n",
       "      <td>0.042200</td>\n",
       "      <td>0.1150</td>\n",
       "      <td>0.769</td>\n",
       "      <td>126.769</td>\n",
       "      <td>11</td>\n",
       "      <td>1970s</td>\n",
       "    </tr>\n",
       "  </tbody>\n",
       "</table>\n",
       "</div>"
      ],
      "text/plain": [
       "                    Track      Artist       Album  Year  Duration  \\\n",
       "0      Play A Simple Song  38 Special  38 Special  1977       193   \n",
       "1             Four Wheels  38 Special  38 Special  1977       283   \n",
       "2                Fly Away  38 Special  38 Special  1977       313   \n",
       "3          Tell Everybody  38 Special  38 Special  1977       249   \n",
       "4  Just Wanna Rock & Roll  38 Special  38 Special  1977       357   \n",
       "\n",
       "   Time_Signature  Danceability  Energy  Key  Loudness  Mode  Speechiness  \\\n",
       "0               4         0.521   0.367    0   -13.866     1       0.0278   \n",
       "1               4         0.535   0.710    2   -12.287     1       0.0428   \n",
       "2               4         0.563   0.563    2   -10.781     1       0.0263   \n",
       "3               4         0.638   0.694   11   -10.206     0       0.0310   \n",
       "4               4         0.388   0.701    2    -9.984     1       0.0360   \n",
       "\n",
       "   Acousticness  Instrumentalness  Liveness  Valence    Tempo  Popularity  \\\n",
       "0        0.6920          0.000003    0.1080    0.789   83.412          16   \n",
       "1        0.0100          0.023000    0.0495    0.445  160.361          10   \n",
       "2        0.0357          0.001850    0.1400    0.564  106.739          13   \n",
       "3        0.1610          0.000034    0.0908    0.936  124.962          10   \n",
       "4        0.0130          0.042200    0.1150    0.769  126.769          11   \n",
       "\n",
       "  Decade  \n",
       "0  1970s  \n",
       "1  1970s  \n",
       "2  1970s  \n",
       "3  1970s  \n",
       "4  1970s  "
      ]
     },
     "execution_count": 3,
     "metadata": {},
     "output_type": "execute_result"
    }
   ],
   "source": [
    "df.head()"
   ]
  },
  {
   "cell_type": "markdown",
   "id": "6c229221-984d-40b8-aeb4-deebcd6bdaa9",
   "metadata": {},
   "source": [
    "## Preprocessing"
   ]
  },
  {
   "cell_type": "code",
   "execution_count": 4,
   "id": "930828d9-2586-419f-a64c-f626f1aceee5",
   "metadata": {},
   "outputs": [],
   "source": [
    "from sklearn.compose import ColumnTransformer\n",
    "from sklearn.pipeline import Pipeline, make_pipeline\n",
    "from sklearn.preprocessing import StandardScaler, OneHotEncoder\n",
    "from sklearn.impute import SimpleImputer\n",
    "from sklearn.model_selection import train_test_split"
   ]
  },
  {
   "cell_type": "code",
   "execution_count": 5,
   "id": "27dd7aa1-2858-489a-90f2-c2cafdb3edec",
   "metadata": {},
   "outputs": [],
   "source": [
    "X = df.drop(columns=[\"Energy\"])\n",
    "y = df[\"Energy\"]\n",
    "\n",
    "X_train, X_test, y_train, y_test = train_test_split(X, y, test_size=0.2, shuffle=True)"
   ]
  },
  {
   "cell_type": "code",
   "execution_count": 6,
   "id": "8dabff66-075a-4f0e-81e6-844e3111992a",
   "metadata": {},
   "outputs": [],
   "source": [
    "\n",
    "# make_column_selector\n",
    "\n",
    "num_attributes = [\n",
    "    \"Duration\", \n",
    "    \"Danceability\", \n",
    "    \"Key\", \n",
    "    \"Loudness\", \n",
    "    \"Speechiness\", \n",
    "    \"Acousticness\", \n",
    "    \"Instrumentalness\", \n",
    "    \"Liveness\", \n",
    "    \"Valence\",\n",
    "    \"Tempo\",\n",
    "    \"Popularity\"\n",
    "]\n",
    "\n",
    "cat_attributes = [\"Key\", \"Mode\", \"Decade\"]"
   ]
  },
  {
   "cell_type": "code",
   "execution_count": 7,
   "id": "52651e26-93a3-47de-aeb9-1774d456b50c",
   "metadata": {},
   "outputs": [],
   "source": [
    "num_pipeline = Pipeline([\n",
    "    (\"imputer\", SimpleImputer(strategy=\"mean\")),\n",
    "    (\"standarizer\", StandardScaler()),\n",
    "])"
   ]
  },
  {
   "cell_type": "code",
   "execution_count": 8,
   "id": "2fb4b21e-ef59-48c9-8d6d-b8a2807d15d9",
   "metadata": {},
   "outputs": [],
   "source": [
    "cat_pipeline = Pipeline([\n",
    "    (\"imputer\", SimpleImputer(strategy=\"most_frequent\")),\n",
    "    (\"encoder\", OneHotEncoder(handle_unknown=\"ignore\")),\n",
    "])"
   ]
  },
  {
   "cell_type": "code",
   "execution_count": 9,
   "id": "88f8f1bd-d670-4a16-8c29-5d238e08be57",
   "metadata": {},
   "outputs": [],
   "source": [
    "preprocessing = ColumnTransformer([\n",
    "    (\"numerical\", num_pipeline, num_attributes),\n",
    "    (\"categorical\", cat_pipeline, cat_attributes),\n",
    "])"
   ]
  },
  {
   "cell_type": "code",
   "execution_count": 10,
   "id": "21880e44-30ac-4450-8c06-14ed4aaa99de",
   "metadata": {},
   "outputs": [],
   "source": [
    "X_train_prep = preprocessing.fit_transform(X_train)\n",
    "X_test_prep = preprocessing.fit_transform(X_test)"
   ]
  },
  {
   "cell_type": "markdown",
   "id": "c4e893c4-4781-40a4-8c2a-953207fb7b0c",
   "metadata": {},
   "source": [
    "## Training Models"
   ]
  },
  {
   "cell_type": "markdown",
   "id": "1ad4872c-7b95-48b6-b7bf-792d9a59a410",
   "metadata": {},
   "source": [
    "### Linear Regression"
   ]
  },
  {
   "cell_type": "code",
   "execution_count": 11,
   "id": "05d220aa-2fad-46a5-b6a9-3abbee16c6f8",
   "metadata": {},
   "outputs": [],
   "source": [
    "from sklearn.linear_model import LinearRegression"
   ]
  },
  {
   "cell_type": "code",
   "execution_count": 12,
   "id": "a6b3b3ac-3a1d-4594-a871-7eef7d8ff3a7",
   "metadata": {},
   "outputs": [
    {
     "data": {
      "text/html": [
       "<style>#sk-container-id-1 {color: black;}#sk-container-id-1 pre{padding: 0;}#sk-container-id-1 div.sk-toggleable {background-color: white;}#sk-container-id-1 label.sk-toggleable__label {cursor: pointer;display: block;width: 100%;margin-bottom: 0;padding: 0.3em;box-sizing: border-box;text-align: center;}#sk-container-id-1 label.sk-toggleable__label-arrow:before {content: \"▸\";float: left;margin-right: 0.25em;color: #696969;}#sk-container-id-1 label.sk-toggleable__label-arrow:hover:before {color: black;}#sk-container-id-1 div.sk-estimator:hover label.sk-toggleable__label-arrow:before {color: black;}#sk-container-id-1 div.sk-toggleable__content {max-height: 0;max-width: 0;overflow: hidden;text-align: left;background-color: #f0f8ff;}#sk-container-id-1 div.sk-toggleable__content pre {margin: 0.2em;color: black;border-radius: 0.25em;background-color: #f0f8ff;}#sk-container-id-1 input.sk-toggleable__control:checked~div.sk-toggleable__content {max-height: 200px;max-width: 100%;overflow: auto;}#sk-container-id-1 input.sk-toggleable__control:checked~label.sk-toggleable__label-arrow:before {content: \"▾\";}#sk-container-id-1 div.sk-estimator input.sk-toggleable__control:checked~label.sk-toggleable__label {background-color: #d4ebff;}#sk-container-id-1 div.sk-label input.sk-toggleable__control:checked~label.sk-toggleable__label {background-color: #d4ebff;}#sk-container-id-1 input.sk-hidden--visually {border: 0;clip: rect(1px 1px 1px 1px);clip: rect(1px, 1px, 1px, 1px);height: 1px;margin: -1px;overflow: hidden;padding: 0;position: absolute;width: 1px;}#sk-container-id-1 div.sk-estimator {font-family: monospace;background-color: #f0f8ff;border: 1px dotted black;border-radius: 0.25em;box-sizing: border-box;margin-bottom: 0.5em;}#sk-container-id-1 div.sk-estimator:hover {background-color: #d4ebff;}#sk-container-id-1 div.sk-parallel-item::after {content: \"\";width: 100%;border-bottom: 1px solid gray;flex-grow: 1;}#sk-container-id-1 div.sk-label:hover label.sk-toggleable__label {background-color: #d4ebff;}#sk-container-id-1 div.sk-serial::before {content: \"\";position: absolute;border-left: 1px solid gray;box-sizing: border-box;top: 0;bottom: 0;left: 50%;z-index: 0;}#sk-container-id-1 div.sk-serial {display: flex;flex-direction: column;align-items: center;background-color: white;padding-right: 0.2em;padding-left: 0.2em;position: relative;}#sk-container-id-1 div.sk-item {position: relative;z-index: 1;}#sk-container-id-1 div.sk-parallel {display: flex;align-items: stretch;justify-content: center;background-color: white;position: relative;}#sk-container-id-1 div.sk-item::before, #sk-container-id-1 div.sk-parallel-item::before {content: \"\";position: absolute;border-left: 1px solid gray;box-sizing: border-box;top: 0;bottom: 0;left: 50%;z-index: -1;}#sk-container-id-1 div.sk-parallel-item {display: flex;flex-direction: column;z-index: 1;position: relative;background-color: white;}#sk-container-id-1 div.sk-parallel-item:first-child::after {align-self: flex-end;width: 50%;}#sk-container-id-1 div.sk-parallel-item:last-child::after {align-self: flex-start;width: 50%;}#sk-container-id-1 div.sk-parallel-item:only-child::after {width: 0;}#sk-container-id-1 div.sk-dashed-wrapped {border: 1px dashed gray;margin: 0 0.4em 0.5em 0.4em;box-sizing: border-box;padding-bottom: 0.4em;background-color: white;}#sk-container-id-1 div.sk-label label {font-family: monospace;font-weight: bold;display: inline-block;line-height: 1.2em;}#sk-container-id-1 div.sk-label-container {text-align: center;}#sk-container-id-1 div.sk-container {/* jupyter's `normalize.less` sets `[hidden] { display: none; }` but bootstrap.min.css set `[hidden] { display: none !important; }` so we also need the `!important` here to be able to override the default hidden behavior on the sphinx rendered scikit-learn.org. See: https://github.com/scikit-learn/scikit-learn/issues/21755 */display: inline-block !important;position: relative;}#sk-container-id-1 div.sk-text-repr-fallback {display: none;}</style><div id=\"sk-container-id-1\" class=\"sk-top-container\"><div class=\"sk-text-repr-fallback\"><pre>LinearRegression()</pre><b>In a Jupyter environment, please rerun this cell to show the HTML representation or trust the notebook. <br />On GitHub, the HTML representation is unable to render, please try loading this page with nbviewer.org.</b></div><div class=\"sk-container\" hidden><div class=\"sk-item\"><div class=\"sk-estimator sk-toggleable\"><input class=\"sk-toggleable__control sk-hidden--visually\" id=\"sk-estimator-id-1\" type=\"checkbox\" checked><label for=\"sk-estimator-id-1\" class=\"sk-toggleable__label sk-toggleable__label-arrow\">LinearRegression</label><div class=\"sk-toggleable__content\"><pre>LinearRegression()</pre></div></div></div></div></div>"
      ],
      "text/plain": [
       "LinearRegression()"
      ]
     },
     "execution_count": 12,
     "metadata": {},
     "output_type": "execute_result"
    }
   ],
   "source": [
    "linear_regression = LinearRegression()\n",
    "\n",
    "linear_regression.fit(X_train_prep, y_train)"
   ]
  },
  {
   "cell_type": "markdown",
   "id": "5792d9c9-491d-496f-88a0-d98e7e06fd79",
   "metadata": {},
   "source": [
    "### Decision Tree"
   ]
  },
  {
   "cell_type": "code",
   "execution_count": 13,
   "id": "ebbad22d-959d-4f27-9a97-51bd23c1edab",
   "metadata": {},
   "outputs": [],
   "source": [
    "from sklearn.tree import DecisionTreeRegressor"
   ]
  },
  {
   "cell_type": "code",
   "execution_count": 14,
   "id": "03c444f8-4bc9-4202-bfeb-8b1dd8d9f859",
   "metadata": {},
   "outputs": [
    {
     "data": {
      "text/html": [
       "<style>#sk-container-id-2 {color: black;}#sk-container-id-2 pre{padding: 0;}#sk-container-id-2 div.sk-toggleable {background-color: white;}#sk-container-id-2 label.sk-toggleable__label {cursor: pointer;display: block;width: 100%;margin-bottom: 0;padding: 0.3em;box-sizing: border-box;text-align: center;}#sk-container-id-2 label.sk-toggleable__label-arrow:before {content: \"▸\";float: left;margin-right: 0.25em;color: #696969;}#sk-container-id-2 label.sk-toggleable__label-arrow:hover:before {color: black;}#sk-container-id-2 div.sk-estimator:hover label.sk-toggleable__label-arrow:before {color: black;}#sk-container-id-2 div.sk-toggleable__content {max-height: 0;max-width: 0;overflow: hidden;text-align: left;background-color: #f0f8ff;}#sk-container-id-2 div.sk-toggleable__content pre {margin: 0.2em;color: black;border-radius: 0.25em;background-color: #f0f8ff;}#sk-container-id-2 input.sk-toggleable__control:checked~div.sk-toggleable__content {max-height: 200px;max-width: 100%;overflow: auto;}#sk-container-id-2 input.sk-toggleable__control:checked~label.sk-toggleable__label-arrow:before {content: \"▾\";}#sk-container-id-2 div.sk-estimator input.sk-toggleable__control:checked~label.sk-toggleable__label {background-color: #d4ebff;}#sk-container-id-2 div.sk-label input.sk-toggleable__control:checked~label.sk-toggleable__label {background-color: #d4ebff;}#sk-container-id-2 input.sk-hidden--visually {border: 0;clip: rect(1px 1px 1px 1px);clip: rect(1px, 1px, 1px, 1px);height: 1px;margin: -1px;overflow: hidden;padding: 0;position: absolute;width: 1px;}#sk-container-id-2 div.sk-estimator {font-family: monospace;background-color: #f0f8ff;border: 1px dotted black;border-radius: 0.25em;box-sizing: border-box;margin-bottom: 0.5em;}#sk-container-id-2 div.sk-estimator:hover {background-color: #d4ebff;}#sk-container-id-2 div.sk-parallel-item::after {content: \"\";width: 100%;border-bottom: 1px solid gray;flex-grow: 1;}#sk-container-id-2 div.sk-label:hover label.sk-toggleable__label {background-color: #d4ebff;}#sk-container-id-2 div.sk-serial::before {content: \"\";position: absolute;border-left: 1px solid gray;box-sizing: border-box;top: 0;bottom: 0;left: 50%;z-index: 0;}#sk-container-id-2 div.sk-serial {display: flex;flex-direction: column;align-items: center;background-color: white;padding-right: 0.2em;padding-left: 0.2em;position: relative;}#sk-container-id-2 div.sk-item {position: relative;z-index: 1;}#sk-container-id-2 div.sk-parallel {display: flex;align-items: stretch;justify-content: center;background-color: white;position: relative;}#sk-container-id-2 div.sk-item::before, #sk-container-id-2 div.sk-parallel-item::before {content: \"\";position: absolute;border-left: 1px solid gray;box-sizing: border-box;top: 0;bottom: 0;left: 50%;z-index: -1;}#sk-container-id-2 div.sk-parallel-item {display: flex;flex-direction: column;z-index: 1;position: relative;background-color: white;}#sk-container-id-2 div.sk-parallel-item:first-child::after {align-self: flex-end;width: 50%;}#sk-container-id-2 div.sk-parallel-item:last-child::after {align-self: flex-start;width: 50%;}#sk-container-id-2 div.sk-parallel-item:only-child::after {width: 0;}#sk-container-id-2 div.sk-dashed-wrapped {border: 1px dashed gray;margin: 0 0.4em 0.5em 0.4em;box-sizing: border-box;padding-bottom: 0.4em;background-color: white;}#sk-container-id-2 div.sk-label label {font-family: monospace;font-weight: bold;display: inline-block;line-height: 1.2em;}#sk-container-id-2 div.sk-label-container {text-align: center;}#sk-container-id-2 div.sk-container {/* jupyter's `normalize.less` sets `[hidden] { display: none; }` but bootstrap.min.css set `[hidden] { display: none !important; }` so we also need the `!important` here to be able to override the default hidden behavior on the sphinx rendered scikit-learn.org. See: https://github.com/scikit-learn/scikit-learn/issues/21755 */display: inline-block !important;position: relative;}#sk-container-id-2 div.sk-text-repr-fallback {display: none;}</style><div id=\"sk-container-id-2\" class=\"sk-top-container\"><div class=\"sk-text-repr-fallback\"><pre>DecisionTreeRegressor(max_depth=2)</pre><b>In a Jupyter environment, please rerun this cell to show the HTML representation or trust the notebook. <br />On GitHub, the HTML representation is unable to render, please try loading this page with nbviewer.org.</b></div><div class=\"sk-container\" hidden><div class=\"sk-item\"><div class=\"sk-estimator sk-toggleable\"><input class=\"sk-toggleable__control sk-hidden--visually\" id=\"sk-estimator-id-2\" type=\"checkbox\" checked><label for=\"sk-estimator-id-2\" class=\"sk-toggleable__label sk-toggleable__label-arrow\">DecisionTreeRegressor</label><div class=\"sk-toggleable__content\"><pre>DecisionTreeRegressor(max_depth=2)</pre></div></div></div></div></div>"
      ],
      "text/plain": [
       "DecisionTreeRegressor(max_depth=2)"
      ]
     },
     "execution_count": 14,
     "metadata": {},
     "output_type": "execute_result"
    }
   ],
   "source": [
    "tree_regressor = DecisionTreeRegressor(max_depth=2)\n",
    "tree_regressor.fit(X_train_prep, y_train)"
   ]
  },
  {
   "cell_type": "markdown",
   "id": "5b2124bb-3669-4615-8029-89adbee4e977",
   "metadata": {},
   "source": [
    "### SVM"
   ]
  },
  {
   "cell_type": "code",
   "execution_count": 15,
   "id": "9907747f-5f94-4b3a-b19e-1e49f8b3a065",
   "metadata": {},
   "outputs": [],
   "source": [
    "from sklearn.svm import LinearSVR"
   ]
  },
  {
   "cell_type": "code",
   "execution_count": 16,
   "id": "de20b0be-2042-4b83-ac12-a831e9ffcd68",
   "metadata": {},
   "outputs": [
    {
     "name": "stderr",
     "output_type": "stream",
     "text": [
      "/home/jeremi/anaconda3/envs/ml/lib/python3.8/site-packages/sklearn/svm/_classes.py:32: FutureWarning: The default value of `dual` will change from `True` to `'auto'` in 1.5. Set the value of `dual` explicitly to suppress the warning.\n",
      "  warnings.warn(\n"
     ]
    },
    {
     "data": {
      "text/html": [
       "<style>#sk-container-id-3 {color: black;}#sk-container-id-3 pre{padding: 0;}#sk-container-id-3 div.sk-toggleable {background-color: white;}#sk-container-id-3 label.sk-toggleable__label {cursor: pointer;display: block;width: 100%;margin-bottom: 0;padding: 0.3em;box-sizing: border-box;text-align: center;}#sk-container-id-3 label.sk-toggleable__label-arrow:before {content: \"▸\";float: left;margin-right: 0.25em;color: #696969;}#sk-container-id-3 label.sk-toggleable__label-arrow:hover:before {color: black;}#sk-container-id-3 div.sk-estimator:hover label.sk-toggleable__label-arrow:before {color: black;}#sk-container-id-3 div.sk-toggleable__content {max-height: 0;max-width: 0;overflow: hidden;text-align: left;background-color: #f0f8ff;}#sk-container-id-3 div.sk-toggleable__content pre {margin: 0.2em;color: black;border-radius: 0.25em;background-color: #f0f8ff;}#sk-container-id-3 input.sk-toggleable__control:checked~div.sk-toggleable__content {max-height: 200px;max-width: 100%;overflow: auto;}#sk-container-id-3 input.sk-toggleable__control:checked~label.sk-toggleable__label-arrow:before {content: \"▾\";}#sk-container-id-3 div.sk-estimator input.sk-toggleable__control:checked~label.sk-toggleable__label {background-color: #d4ebff;}#sk-container-id-3 div.sk-label input.sk-toggleable__control:checked~label.sk-toggleable__label {background-color: #d4ebff;}#sk-container-id-3 input.sk-hidden--visually {border: 0;clip: rect(1px 1px 1px 1px);clip: rect(1px, 1px, 1px, 1px);height: 1px;margin: -1px;overflow: hidden;padding: 0;position: absolute;width: 1px;}#sk-container-id-3 div.sk-estimator {font-family: monospace;background-color: #f0f8ff;border: 1px dotted black;border-radius: 0.25em;box-sizing: border-box;margin-bottom: 0.5em;}#sk-container-id-3 div.sk-estimator:hover {background-color: #d4ebff;}#sk-container-id-3 div.sk-parallel-item::after {content: \"\";width: 100%;border-bottom: 1px solid gray;flex-grow: 1;}#sk-container-id-3 div.sk-label:hover label.sk-toggleable__label {background-color: #d4ebff;}#sk-container-id-3 div.sk-serial::before {content: \"\";position: absolute;border-left: 1px solid gray;box-sizing: border-box;top: 0;bottom: 0;left: 50%;z-index: 0;}#sk-container-id-3 div.sk-serial {display: flex;flex-direction: column;align-items: center;background-color: white;padding-right: 0.2em;padding-left: 0.2em;position: relative;}#sk-container-id-3 div.sk-item {position: relative;z-index: 1;}#sk-container-id-3 div.sk-parallel {display: flex;align-items: stretch;justify-content: center;background-color: white;position: relative;}#sk-container-id-3 div.sk-item::before, #sk-container-id-3 div.sk-parallel-item::before {content: \"\";position: absolute;border-left: 1px solid gray;box-sizing: border-box;top: 0;bottom: 0;left: 50%;z-index: -1;}#sk-container-id-3 div.sk-parallel-item {display: flex;flex-direction: column;z-index: 1;position: relative;background-color: white;}#sk-container-id-3 div.sk-parallel-item:first-child::after {align-self: flex-end;width: 50%;}#sk-container-id-3 div.sk-parallel-item:last-child::after {align-self: flex-start;width: 50%;}#sk-container-id-3 div.sk-parallel-item:only-child::after {width: 0;}#sk-container-id-3 div.sk-dashed-wrapped {border: 1px dashed gray;margin: 0 0.4em 0.5em 0.4em;box-sizing: border-box;padding-bottom: 0.4em;background-color: white;}#sk-container-id-3 div.sk-label label {font-family: monospace;font-weight: bold;display: inline-block;line-height: 1.2em;}#sk-container-id-3 div.sk-label-container {text-align: center;}#sk-container-id-3 div.sk-container {/* jupyter's `normalize.less` sets `[hidden] { display: none; }` but bootstrap.min.css set `[hidden] { display: none !important; }` so we also need the `!important` here to be able to override the default hidden behavior on the sphinx rendered scikit-learn.org. See: https://github.com/scikit-learn/scikit-learn/issues/21755 */display: inline-block !important;position: relative;}#sk-container-id-3 div.sk-text-repr-fallback {display: none;}</style><div id=\"sk-container-id-3\" class=\"sk-top-container\"><div class=\"sk-text-repr-fallback\"><pre>LinearSVR(epsilon=0.5)</pre><b>In a Jupyter environment, please rerun this cell to show the HTML representation or trust the notebook. <br />On GitHub, the HTML representation is unable to render, please try loading this page with nbviewer.org.</b></div><div class=\"sk-container\" hidden><div class=\"sk-item\"><div class=\"sk-estimator sk-toggleable\"><input class=\"sk-toggleable__control sk-hidden--visually\" id=\"sk-estimator-id-3\" type=\"checkbox\" checked><label for=\"sk-estimator-id-3\" class=\"sk-toggleable__label sk-toggleable__label-arrow\">LinearSVR</label><div class=\"sk-toggleable__content\"><pre>LinearSVR(epsilon=0.5)</pre></div></div></div></div></div>"
      ],
      "text/plain": [
       "LinearSVR(epsilon=0.5)"
      ]
     },
     "execution_count": 16,
     "metadata": {},
     "output_type": "execute_result"
    }
   ],
   "source": [
    "svm_regressor = LinearSVR(epsilon=0.5)\n",
    "svm_regressor.fit(X_train_prep, y_train)"
   ]
  },
  {
   "cell_type": "markdown",
   "id": "785d1e4c-da13-4be3-8f75-d5c9a4381bcb",
   "metadata": {},
   "source": [
    "## Evaluating Models"
   ]
  },
  {
   "cell_type": "code",
   "execution_count": null,
   "id": "946e9c70-f11a-4536-ab41-78bfe3c032dc",
   "metadata": {},
   "outputs": [],
   "source": []
  },
  {
   "cell_type": "markdown",
   "id": "ab9d57c8-4c47-402f-b33c-510941a2c19b",
   "metadata": {},
   "source": [
    "## Linear Regression with Numpy"
   ]
  },
  {
   "cell_type": "code",
   "execution_count": 17,
   "id": "4c5ce891-998d-40a9-bb07-cd5f7e9fc612",
   "metadata": {},
   "outputs": [],
   "source": [
    "theta_best = np.linalg.inv(X_train_prep.T @ X_train_prep) @ X_train_prep.T @ y_train"
   ]
  },
  {
   "cell_type": "code",
   "execution_count": 18,
   "id": "1d3e0196-e67e-497d-8c79-ab92af3460d6",
   "metadata": {},
   "outputs": [
    {
     "data": {
      "text/plain": [
       "array([ 9.06943050e-02, -5.14029127e-01,  3.54330104e+13,  5.01634601e-01,\n",
       "        3.55522042e-01, -3.15873897e-01,  2.38291251e-02, -1.62134542e-01,\n",
       "       -7.18210539e-02, -2.29048915e-01, -2.37847393e-01,  5.22101543e+13,\n",
       "        4.21035498e+13,  3.19969454e+13,  2.18903409e+13,  1.17837365e+13,\n",
       "        1.67713204e+12, -8.42947241e+12, -1.85360769e+13, -2.86426813e+13,\n",
       "       -3.87492858e+13, -4.88558902e+13, -5.89624947e+13, -2.98168816e-02,\n",
       "       -1.96029002e-01,  8.84173029e-01,  9.93625127e-02,  9.69744653e-02,\n",
       "        8.86844827e-01,  3.08661473e-01,  5.39980420e-01,  5.04443602e-01])"
      ]
     },
     "execution_count": 18,
     "metadata": {},
     "output_type": "execute_result"
    }
   ],
   "source": [
    "theta_best"
   ]
  },
  {
   "cell_type": "code",
   "execution_count": 19,
   "id": "8a66f7bd-5c47-4e18-a452-dc0d3df91511",
   "metadata": {},
   "outputs": [],
   "source": [
    "y_predict = X_test_prep @ theta_best"
   ]
  },
  {
   "cell_type": "code",
   "execution_count": 20,
   "id": "13c69333-4ab1-4238-917f-197afecd1d55",
   "metadata": {
    "scrolled": true
   },
   "outputs": [
    {
     "data": {
      "text/plain": [
       "array([ 3.66333974e+10, -1.53541692e+11,  7.46684152e+10, ...,\n",
       "        3.66333974e+10,  1.12703433e+11,  1.88773469e+11])"
      ]
     },
     "execution_count": 20,
     "metadata": {},
     "output_type": "execute_result"
    }
   ],
   "source": [
    "y_predict"
   ]
  },
  {
   "cell_type": "markdown",
   "id": "ef1ba1df-1dbf-4d0a-b261-9d055e337283",
   "metadata": {},
   "source": [
    "### Using gradient descent"
   ]
  },
  {
   "cell_type": "code",
   "execution_count": 14,
   "id": "d68671c8-1020-40c1-aa14-91e152ddc026",
   "metadata": {},
   "outputs": [
    {
     "ename": "ValueError",
     "evalue": "non-broadcastable output operand with shape (32,1) doesn't match the broadcast shape (32,32)",
     "output_type": "error",
     "traceback": [
      "\u001b[0;31m---------------------------------------------------------------------------\u001b[0m",
      "\u001b[0;31mValueError\u001b[0m                                Traceback (most recent call last)",
      "Cell \u001b[0;32mIn[14], line 24\u001b[0m\n\u001b[1;32m     20\u001b[0m     y_batch \u001b[38;5;241m=\u001b[39m y_train_2[i:i \u001b[38;5;241m+\u001b[39m batch_size]\n\u001b[1;32m     22\u001b[0m     gradients \u001b[38;5;241m=\u001b[39m (\u001b[38;5;241m1\u001b[39m \u001b[38;5;241m/\u001b[39m batch_size) \u001b[38;5;241m*\u001b[39m X_batch\u001b[38;5;241m.\u001b[39mT \u001b[38;5;241m@\u001b[39m (X_batch \u001b[38;5;241m@\u001b[39m theta \u001b[38;5;241m-\u001b[39m y_batch)\n\u001b[0;32m---> 24\u001b[0m     theta \u001b[38;5;241m-\u001b[39m\u001b[38;5;241m=\u001b[39m eta \u001b[38;5;241m*\u001b[39m gradients\n\u001b[1;32m     26\u001b[0m cost \u001b[38;5;241m=\u001b[39m mse(X_train, y_train, theta)\n\u001b[1;32m     27\u001b[0m \u001b[38;5;28mprint\u001b[39m(\u001b[38;5;124mf\u001b[39m\u001b[38;5;124m\"\u001b[39m\u001b[38;5;124mEpoch \u001b[39m\u001b[38;5;132;01m{\u001b[39;00mepoch\u001b[38;5;241m+\u001b[39m\u001b[38;5;241m1\u001b[39m\u001b[38;5;132;01m}\u001b[39;00m\u001b[38;5;124m/\u001b[39m\u001b[38;5;132;01m{\u001b[39;00mn_epochs\u001b[38;5;132;01m}\u001b[39;00m\u001b[38;5;124m, Cost: \u001b[39m\u001b[38;5;132;01m{\u001b[39;00mcost\u001b[38;5;132;01m}\u001b[39;00m\u001b[38;5;124m\"\u001b[39m)\n",
      "\u001b[0;31mValueError\u001b[0m: non-broadcastable output operand with shape (32,1) doesn't match the broadcast shape (32,32)"
     ]
    }
   ],
   "source": [
    "eta = 0.01  # Szybkość uczenia\n",
    "n_epochs = 1000  # Liczba epok\n",
    "batch_size = 32  # Rozmiar batcha\n",
    "m = len(X_train)  # Liczba próbek\n",
    "\n",
    "y_train_2 = y_train.to_numpy()\n",
    "\n",
    "theta = np.random.randn(X_train_prep.shape[1], 1)\n",
    "\n",
    "\n",
    "def mse(X, y, theta):\n",
    "    m = len(y)\n",
    "    predictions = X @ theta\n",
    "    cost = (1 / (2 * m)) * np.sum((predictions - y) ** 2)\n",
    "    return cost\n",
    "\n",
    "for epoch in range(n_epochs):\n",
    "    for i in range(0, m, batch_size):\n",
    "        X_batch = X_train_prep[i:i + batch_size]\n",
    "        y_batch = y_train_2[i:i + batch_size]\n",
    "\n",
    "        gradients = (1 / batch_size) * X_batch.T @ (X_batch @ theta - y_batch)\n",
    "        \n",
    "        theta -= eta * gradients\n",
    "\n",
    "    cost = mse(X_train, y_train, theta)\n",
    "    print(f\"Epoch {epoch+1}/{n_epochs}, Cost: {cost}\")"
   ]
  },
  {
   "cell_type": "code",
   "execution_count": 22,
   "id": "3c264fdc-5a62-4b4b-922d-c1c3717e0c78",
   "metadata": {},
   "outputs": [
    {
     "data": {
      "text/plain": [
       "array([[-1.53771799],\n",
       "       [ 0.27136744],\n",
       "       [ 1.99445907],\n",
       "       [ 0.57771074],\n",
       "       [ 0.54220233],\n",
       "       [ 0.06467229],\n",
       "       [ 1.47326036],\n",
       "       [ 0.36860996],\n",
       "       [ 0.42722269],\n",
       "       [ 0.11635823],\n",
       "       [ 0.25177219],\n",
       "       [-1.65598632],\n",
       "       [-0.59860078],\n",
       "       [-0.06348978],\n",
       "       [-0.22546767],\n",
       "       [-0.01269909],\n",
       "       [-0.11335285],\n",
       "       [-0.99104498]])"
      ]
     },
     "execution_count": 22,
     "metadata": {},
     "output_type": "execute_result"
    }
   ],
   "source": [
    "theta"
   ]
  },
  {
   "cell_type": "code",
   "execution_count": null,
   "id": "b18a45ac-5313-4cb2-9c55-3de4069ab54e",
   "metadata": {},
   "outputs": [],
   "source": []
  },
  {
   "cell_type": "code",
   "execution_count": null,
   "id": "3d946743-4c26-48f7-82d3-5eed3dda39bc",
   "metadata": {},
   "outputs": [],
   "source": []
  }
 ],
 "metadata": {
  "kernelspec": {
   "display_name": "Python 3 (ipykernel)",
   "language": "python",
   "name": "python3"
  },
  "language_info": {
   "codemirror_mode": {
    "name": "ipython",
    "version": 3
   },
   "file_extension": ".py",
   "mimetype": "text/x-python",
   "name": "python",
   "nbconvert_exporter": "python",
   "pygments_lexer": "ipython3",
   "version": "3.12.3"
  }
 },
 "nbformat": 4,
 "nbformat_minor": 5
}
